{
 "cells": [
  {
   "cell_type": "code",
   "execution_count": 1,
   "metadata": {},
   "outputs": [
    {
     "name": "stdout",
     "output_type": "stream",
     "text": [
      "CUDA (GPU) está disponible en tu sistema.\n"
     ]
    }
   ],
   "source": [
    "import torch\n",
    "\n",
    "# Verify if Cuda is available to use GPU\n",
    "if torch.cuda.is_available():\n",
    "    print(\"CUDA (GPU) está disponible en tu sistema.\")\n",
    "else:\n",
    "    print(\"CUDA (GPU) no está disponible en tu sistema.\")"
   ]
  },
  {
   "cell_type": "markdown",
   "metadata": {},
   "source": [
    "# AI by reinforcement learning \n",
    "---\n",
    "This artificial intelligence will be able to learn to play and complete all levels of Geometry dash, using reinforcement learning. To complete this:\n",
    "1. Connect python with the game\n",
    "2. Define bounties and penalizations\n",
    "3. Use Reinforcement learning like Q-learning, Deep Q-learning or Proximal Policy Optimization\n",
    "4. Build a neuronal nerwork CNN? \n",
    "6. Training\n",
    "7. Eval and tunning"
   ]
  },
  {
   "cell_type": "markdown",
   "metadata": {},
   "source": [
    "## 1.Connect Python with the Game\n",
    "---\n",
    "This step will require:\n",
    "1. Keyboard Emulation and Automation\n",
    "- Description: Simulates keystrokes to control the game.\n",
    "- Tools: Libraries such as pyautogui in Python can be used to simulate keystrokes.\n",
    "- Challenges: Can be slow and not always accurate.\n",
    "2. Use of Computer Vision Tools\n",
    "- Description: Uses computer vision to \"see\" the state of the game and makes decisions based on that.\n",
    "- Tools: Libraries such as OpenCV to process the visual output of the game.\n",
    "- Challenges: Requires image processing and can be computationally intensive.\n",
    "3. Creating a Custom Game Environment\n",
    "- Description: Create a simplified version of Geometry Dash that you can fully control.\n",
    "- Tools: Programming languages such as Python or JavaScript to create a basic version of the game.\n",
    "- Challenges: Requires time and effort to replicate the game mechanics."
   ]
  },
  {
   "cell_type": "markdown",
   "metadata": {},
   "source": []
  },
  {
   "cell_type": "code",
   "execution_count": 2,
   "metadata": {},
   "outputs": [],
   "source": [
    "import pyautogui\n",
    "\n",
    "# give time to join the game (swap to 5 when it is going to be used to play)\n",
    "def play_geometry_dash(time):\n",
    "    time.sleep(5)\n",
    "\n",
    "    # infinite loop to use the click\n",
    "    # currently will take 1 fps and click every fps\n",
    "    while True:\n",
    "        pyautogui.click()\n",
    "        start_capturing_game()\n",
    "        time.sleep(1)\n",
    "    "
   ]
  },
  {
   "cell_type": "markdown",
   "metadata": {},
   "source": [
    "Capture the game"
   ]
  },
  {
   "cell_type": "code",
   "execution_count": 3,
   "metadata": {},
   "outputs": [],
   "source": [
    "import cv2\n",
    "import numpy as np\n",
    "import pyautogui\n",
    "\n",
    "# take a screenshot\n",
    "def capture_screen(region=None):\n",
    "    # if region is None, will take the whole screen\n",
    "    screen = pyautogui.screenshot(region=region)\n",
    "    frame = np.array(screen)\n",
    "    frame = cv2.cvtColor(frame, cv2.COLOR_BGR2RGB)\n",
    "    return frame\n",
    "\n",
    "def start_capturing_game():\n",
    "    #while True:\n",
    "        # Define the region of the game\n",
    "        region = (0, 0, 1920, 1080)  # Reemplaza con las coordenadas y dimensiones correctas\n",
    "        screen = capture_screen(region)\n",
    "        # Add here in the future the logic of screen analisis and neuronal netwrok\n",
    "        bounty = get_bounty(screen)\n",
    "        print(bounty)\n",
    "        # Visualize the screenshot\n",
    "        cv2.imshow(\"Game Capture\", screen)\n",
    "    #    if cv2.waitKey(1) & 0xFF == ord('q'):\n",
    "    #        break\n",
    "        cv2.destroyAllWindows()"
   ]
  },
  {
   "cell_type": "markdown",
   "metadata": {},
   "source": [
    "## 2 Define bounties\n",
    "\n",
    "Now let's define the rewards, we will give 1 point for staying alive, and subtract when eliminated."
   ]
  },
  {
   "cell_type": "code",
   "execution_count": 4,
   "metadata": {},
   "outputs": [],
   "source": [
    "def detect_green_cube(screen):\n",
    "    \"\"\"\n",
    "    Detects the presence of a green cube in an image (this will be our geometry skin).\n",
    "\n",
    "    :param image_path: current screenshot\n",
    "    :return: A tuple containing the percentage of green pixels and the mask image.\n",
    "    \"\"\"\n",
    "\n",
    "    # Convert to HSV color space\n",
    "    hsv_image = cv2.cvtColor(screen, cv2.COLOR_BGR2HSV)\n",
    "\n",
    "    # Define the range of green color in HSV\n",
    "    lower_green = np.array([40, 40, 40])\n",
    "    upper_green = np.array([80, 255, 255])\n",
    "\n",
    "    # Create a mask to detect green objects in the image\n",
    "    green_mask = cv2.inRange(hsv_image, lower_green, upper_green)\n",
    "\n",
    "    # Calculate the percentage of green pixels\n",
    "    green_pixels = np.count_nonzero(green_mask)\n",
    "    total_pixels = screen.shape[0] * screen.shape[1]\n",
    "    green_percentage = (green_pixels / total_pixels) * 100\n",
    "    \n",
    "    # Return the percentage of green pixels and the mask for further analysis if needed\n",
    "    return green_percentage, green_mask\n",
    "\n",
    "## Seems working properly detecting the block\n",
    "def get_bounty(screen):\n",
    "    green_percentage, green_mask = detect_green_cube(screen)\n",
    "\n",
    "    if green_percentage > 0.35:\n",
    "        return 1 \n",
    "    else:\n",
    "        return -10  \n"
   ]
  },
  {
   "cell_type": "markdown",
   "metadata": {},
   "source": [
    "## 3 Use Reinforcement learning\n",
    "---\n"
   ]
  },
  {
   "cell_type": "code",
   "execution_count": null,
   "metadata": {},
   "outputs": [],
   "source": []
  },
  {
   "cell_type": "markdown",
   "metadata": {},
   "source": [
    "Lets start to play"
   ]
  },
  {
   "cell_type": "code",
   "execution_count": 5,
   "metadata": {},
   "outputs": [
    {
     "name": "stdout",
     "output_type": "stream",
     "text": [
      "1\n",
      "1\n",
      "1\n",
      "1\n",
      "-10\n",
      "-10\n",
      "-10\n",
      "-10\n",
      "-10\n",
      "-10\n",
      "-10\n",
      "1\n",
      "1\n",
      "-10\n",
      "1\n",
      "1\n",
      "1\n",
      "1\n",
      "1\n",
      "1\n",
      "-10\n",
      "-10\n"
     ]
    },
    {
     "ename": "KeyboardInterrupt",
     "evalue": "",
     "output_type": "error",
     "traceback": [
      "\u001b[1;31m---------------------------------------------------------------------------\u001b[0m",
      "\u001b[1;31mKeyboardInterrupt\u001b[0m                         Traceback (most recent call last)",
      "Cell \u001b[1;32mIn[5], line 3\u001b[0m\n\u001b[0;32m      1\u001b[0m \u001b[38;5;28;01mimport\u001b[39;00m \u001b[38;5;21;01mtime\u001b[39;00m\n\u001b[1;32m----> 3\u001b[0m \u001b[43mplay_geometry_dash\u001b[49m\u001b[43m(\u001b[49m\u001b[43mtime\u001b[49m\u001b[38;5;241;43m=\u001b[39;49m\u001b[43mtime\u001b[49m\u001b[43m)\u001b[49m\n",
      "Cell \u001b[1;32mIn[2], line 11\u001b[0m, in \u001b[0;36mplay_geometry_dash\u001b[1;34m(time)\u001b[0m\n\u001b[0;32m      9\u001b[0m pyautogui\u001b[38;5;241m.\u001b[39mclick()\n\u001b[0;32m     10\u001b[0m start_capturing_game()\n\u001b[1;32m---> 11\u001b[0m \u001b[43mtime\u001b[49m\u001b[38;5;241;43m.\u001b[39;49m\u001b[43msleep\u001b[49m\u001b[43m(\u001b[49m\u001b[38;5;241;43m1\u001b[39;49m\u001b[43m)\u001b[49m\n",
      "\u001b[1;31mKeyboardInterrupt\u001b[0m: "
     ]
    }
   ],
   "source": [
    "import time\n",
    "\n",
    "play_geometry_dash(time=time)"
   ]
  }
 ],
 "metadata": {
  "kernelspec": {
   "display_name": ".venv",
   "language": "python",
   "name": "python3"
  },
  "language_info": {
   "codemirror_mode": {
    "name": "ipython",
    "version": 3
   },
   "file_extension": ".py",
   "mimetype": "text/x-python",
   "name": "python",
   "nbconvert_exporter": "python",
   "pygments_lexer": "ipython3",
   "version": "3.9.10"
  }
 },
 "nbformat": 4,
 "nbformat_minor": 2
}
