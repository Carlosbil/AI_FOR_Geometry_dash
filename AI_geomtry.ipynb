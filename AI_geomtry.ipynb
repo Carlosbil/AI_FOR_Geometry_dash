{
 "cells": [
  {
   "cell_type": "code",
   "execution_count": 134,
   "metadata": {},
   "outputs": [
    {
     "name": "stdout",
     "output_type": "stream",
     "text": [
      "GPU está disponible. Usando GPU.\n"
     ]
    }
   ],
   "source": [
    "import torch\n",
    "\n",
    "# Verify if Cuda is available to use GPU\n",
    "import torch\n",
    "\n",
    "if torch.cuda.is_available():\n",
    "    device = torch.device(\"cuda\")\n",
    "    print(\"GPU está disponible. Usando GPU.\")\n",
    "else:\n",
    "    device = torch.device(\"cpu\")\n",
    "    print(\"GPU no está disponible. Usando CPU.\")\n"
   ]
  },
  {
   "cell_type": "markdown",
   "metadata": {},
   "source": [
    "# AI by reinforcement learning \n",
    "---\n",
    "This artificial intelligence will be able to learn to play and complete all levels of Geometry dash, using reinforcement learning. To complete this:\n",
    "1. Connect python with the game\n",
    "2. Define bounties and penalizations\n",
    "3. Use Reinforcement learning like Q-learning, Deep Q-learning or Proximal Policy Optimization\n",
    "4. Build a neuronal nerwork CNN? \n",
    "6. Training\n",
    "7. Eval and tunning"
   ]
  },
  {
   "cell_type": "markdown",
   "metadata": {},
   "source": [
    "## 1.Connect Python with the Game\n",
    "---\n",
    "This step will require:\n",
    "1. Keyboard Emulation and Automation\n",
    "- Description: Simulates keystrokes to control the game.\n",
    "- Tools: Libraries such as pyautogui in Python can be used to simulate keystrokes.\n",
    "- Challenges: Can be slow and not always accurate.\n",
    "2. Use of Computer Vision Tools\n",
    "- Description: Uses computer vision to \"see\" the state of the game and makes decisions based on that.\n",
    "- Tools: Libraries such as OpenCV to process the visual output of the game.\n",
    "- Challenges: Requires image processing and can be computationally intensive.\n",
    "3. Creating a Custom Game Environment\n",
    "- Description: Create a simplified version of Geometry Dash that you can fully control.\n",
    "- Tools: Programming languages such as Python or JavaScript to create a basic version of the game.\n",
    "- Challenges: Requires time and effort to replicate the game mechanics."
   ]
  },
  {
   "cell_type": "markdown",
   "metadata": {},
   "source": []
  },
  {
   "cell_type": "markdown",
   "metadata": {},
   "source": [
    "Capture the game state"
   ]
  },
  {
   "cell_type": "code",
   "execution_count": 135,
   "metadata": {},
   "outputs": [],
   "source": [
    "# (some auxiliary functions to cpt the game state)\n",
    "# do actions\n",
    "import cv2\n",
    "import numpy as np\n",
    "import pyautogui\n",
    "\n",
    "global green_per\n",
    "green_per = 0.1\n",
    "def capture_screen(region=(0, 0, 640, 480), resize_dim=(160, 120)):\n",
    "    global green_per\n",
    "\n",
    "    screen = pyautogui.screenshot(region=region)\n",
    "    \n",
    "    # Convert screenshot into numpy array\n",
    "    frame = np.array(screen, dtype=np.uint8)\n",
    "    \n",
    "    # Convert to RGB\n",
    "    frame_rgb = cv2.cvtColor(frame, cv2.COLOR_BGR2RGB)\n",
    "    \n",
    "    # Convert to HSV\n",
    "    frame_hsv = cv2.cvtColor(frame_rgb, cv2.COLOR_RGB2HSV)\n",
    "    \n",
    "        # Define range of green color in HSV\n",
    "    lower_green = np.array([50, 100, 128])\n",
    "    upper_green = np.array([70, 255, 255])\n",
    "    # Adjust these values according to your needs\n",
    "    \n",
    "    # Threshold the HSV image to get only green colors\n",
    "    mask = cv2.inRange(frame_hsv, lower_green, upper_green)\n",
    "    \n",
    "    # Calculate the percentage of green pixels\n",
    "    green_per = np.sum(mask == 255) / (mask.size) * 100\n",
    "    \n",
    "    # Resize image\n",
    "    frame_resized = cv2.resize(frame_rgb, resize_dim)\n",
    "    \n",
    "    # Convert to tensor\n",
    "    frame_tensor = torch.from_numpy(frame_resized).permute(2, 0, 1).float() / 255.0\n",
    "    frame_tensor = frame_tensor.unsqueeze(0)\n",
    "    \n",
    "    return frame_tensor\n"
   ]
  },
  {
   "cell_type": "code",
   "execution_count": 136,
   "metadata": {},
   "outputs": [],
   "source": [
    "import torch\n",
    "from torchvision.transforms import transforms\n",
    "class ImageStack:\n",
    "    def __init__(self, stack_size=4, image_shape=(3, 64, 64)):\n",
    "        self.stack_size = stack_size\n",
    "        self.image_shape = image_shape\n",
    "        self.image_stack = torch.zeros((stack_size, *image_shape), dtype=torch.float32)\n",
    "        self.idx = 0\n",
    "\n",
    "    def update_stack(self, processed_image):\n",
    "        # RESIZE TO C H W\n",
    "        if processed_image.dim() == 4:\n",
    "            processed_image = processed_image.squeeze(0)\n",
    "        \n",
    "        # Save image and update the idx (indice)\n",
    "        self.image_stack[self.idx % self.stack_size] = processed_image\n",
    "        self.idx = (self.idx + 1) % self.stack_size\n",
    "\n",
    "    def get_stack(self):\n",
    "        return self.image_stack\n",
    "    \n",
    "    def to(self, device):\n",
    "        self.image_stack = self.image_stack.to(device)\n",
    "\n",
    "preprocess = transforms.Compose([\n",
    "    transforms.Normalize(mean=[0.485, 0.456, 0.406], std=[0.229, 0.224, 0.225]),\n",
    "])\n",
    "def process_image_pytorch(image, image_stack_obj):\n",
    "    #print(\"Procesando imagen\")\n",
    "    # Verify\n",
    "    image = preprocess(image)\n",
    "    if not torch.is_tensor(image):\n",
    "        raise TypeError(\"La imagen debe ser un tensor de PyTorch.\")\n",
    "    \n",
    "    # Normalize image\n",
    "    processed_image = image.float() / 255.0 if image.max() > 1.0 else image.float()\n",
    "\n",
    "    # Verify\n",
    "    if processed_image.dim() == 4:\n",
    "        processed_image = processed_image.squeeze(0)\n",
    "\n",
    "    # Update stack\n",
    "    image_stack_obj.update_stack(processed_image)\n",
    "\n",
    "    #print(\"Fin del procesamiento de imagen\")\n",
    "    return image_stack_obj.get_stack()\n"
   ]
  },
  {
   "cell_type": "markdown",
   "metadata": {},
   "source": [
    "## 2 Define bounties\n",
    "\n",
    "Now let's define the rewards, we will give 1 point for staying alive, and subtract when eliminated."
   ]
  },
  {
   "cell_type": "code",
   "execution_count": 137,
   "metadata": {},
   "outputs": [],
   "source": [
    "import numpy as np\n",
    "import cv2\n",
    "import torch\n",
    "import time\n",
    "import matplotlib.pyplot as plt\n",
    "\n",
    "## Seems working properly detecting the block\n",
    "def get_bounty():\n",
    "    #print(\"Green percentage: \", green_percentage)\n",
    "    if green_per < 10:\n",
    "        return 30\n",
    "    else:\n",
    "        #print(\"Green percentage: \", green_percentage)\n",
    "        return 0 \n"
   ]
  },
  {
   "cell_type": "code",
   "execution_count": 138,
   "metadata": {},
   "outputs": [
    {
     "data": {
      "text/plain": [
       "'greens = []\\nwhile True:\\n    capture_screen()\\n    greens.append(green_per)\\n    if green_per == 0:\\n        print(\"HA TERMINADO\")'"
      ]
     },
     "execution_count": 138,
     "metadata": {},
     "output_type": "execute_result"
    }
   ],
   "source": [
    "\"\"\"greens = []\n",
    "while True:\n",
    "    capture_screen()\n",
    "    greens.append(green_per)\n",
    "    if green_per == 0:\n",
    "        print(\"HA TERMINADO\")\"\"\"\n"
   ]
  },
  {
   "cell_type": "code",
   "execution_count": 139,
   "metadata": {},
   "outputs": [
    {
     "data": {
      "image/png": "[encoded data removed]",
      "text/plain": [
       "<Figure size 1200x600 with 1 Axes>"
      ]
     },
     "metadata": {},
     "output_type": "display_data"
    }
   ],
   "source": [
    "\n",
    "plt.figure(figsize=(12, 6))\n",
    "plt.plot(greens, label='Recompensa Total por Episodio', alpha=0.5)\n",
    "plt.title('Porcentaje de verde a lo largo del episodio')\n",
    "plt.xlabel('Episodio')\n",
    "plt.ylabel('Porcentaje de verde')\n",
    "plt.legend()\n",
    "plt.show()"
   ]
  },
  {
   "cell_type": "markdown",
   "metadata": {},
   "source": [
    "## 3 Use Reinforcement learning\n",
    "---\n"
   ]
  },
  {
   "cell_type": "markdown",
   "metadata": {},
   "source": [
    "First of all we need a buffer of repetitions and some auxiliary functions"
   ]
  },
  {
   "cell_type": "code",
   "execution_count": 140,
   "metadata": {},
   "outputs": [],
   "source": [
    "import random\n",
    "\n",
    "def choose_action(state, model, epsilon, device):\n",
    "    if random.random() > epsilon:\n",
    "        single_state = state.unsqueeze(0) if state.dim() == 3 else state[:1]  # Usa solo la primera observación si hay más\n",
    "        single_state = single_state.to(device)\n",
    "        \n",
    "        with torch.no_grad():\n",
    "            q_values = model(single_state)\n",
    "            action = q_values.max(1)[1].item()\n",
    "            print(f\"Accion predecida {action}\")\n",
    "    else:\n",
    "        action = random.randrange(num_actions)\n",
    "    return action\n",
    "\n",
    "\n",
    "def update_network(model, target_model, minibatch, gamma, optimizer, criterion):\n",
    "    states, actions, rewards, next_states, dones = minibatch\n",
    "    states = states.to(device)\n",
    "    next_states = next_states.to(device)\n",
    "    actions = actions.to(device)\n",
    "    rewards = rewards.to(device)\n",
    "    dones = dones.to(device)\n",
    "   \n",
    "    states = states[:, -1, :, :, :] \n",
    "    next_states = next_states[:, -1, :, :, :]\n",
    "    # Calculate q values\n",
    "    current_q_values = model(states).gather(1, actions.unsqueeze(-1))\n",
    "    next_q_values = target_model(next_states).max(1)[0].detach()\n",
    "    expected_q_values = rewards + (gamma * next_q_values * (1 - dones.float()))\n",
    "    expected_q_values = expected_q_values.unsqueeze(1)\n",
    "\n",
    "    loss = criterion(current_q_values.squeeze(-1), expected_q_values)\n",
    "\n",
    "    optimizer.zero_grad()\n",
    "    loss.backward()\n",
    "    optimizer.step()\n",
    "\n",
    "    return loss.item()\n",
    "\n",
    "def perform_action_pytorch(action, screen):\n",
    "    bounty = get_bounty() \n",
    "    if action == 0:\n",
    "        pyautogui.click()\n",
    "        bounty+=5\n",
    "    if green_per == 0:\n",
    "        return  bounty, True\n",
    "\n",
    "    return bounty, False\n"
   ]
  },
  {
   "cell_type": "markdown",
   "metadata": {},
   "source": [
    "create the model\n"
   ]
  },
  {
   "cell_type": "code",
   "execution_count": 141,
   "metadata": {},
   "outputs": [],
   "source": [
    "import torch\n",
    "import torch.nn as nn\n",
    "from torchvision import models, transforms\n",
    "\n",
    "import torch\n",
    "import torch.nn as nn\n",
    "import torch.nn.functional as F\n",
    "\n",
    "class GeometryDashCNN(nn.Module):\n",
    "    def __init__(self, num_actions):\n",
    "        super(GeometryDashCNN, self).__init__()\n",
    "        self.num_actions = num_actions\n",
    "        self.conv1 = nn.Conv2d(in_channels=3, out_channels=32, kernel_size=5, stride=1, padding=2)\n",
    "        self.pool = nn.MaxPool2d(kernel_size=2, stride=2, padding=0)\n",
    "        self.conv2 = nn.Conv2d(in_channels=32, out_channels=64, kernel_size=5, stride=1, padding=2)\n",
    "        self.conv3 = nn.Conv2d(in_channels=64, out_channels=128, kernel_size=3, stride=1, padding=1)\n",
    "\n",
    "        self.flattened_size = 128 * 16 * 16\n",
    "\n",
    "       \n",
    "        self.fc1 = nn.Linear(self.flattened_size, 128)\n",
    "        self.fc3 = nn.Linear(128, num_actions)\n",
    "\n",
    "        # load pretrained GoogLeNet\n",
    "        googlenet = models.googlenet(pretrained=True)\n",
    "        \n",
    "        self.googlenet = googlenet\n",
    "        self.googlenet.fc = nn.Linear(self.googlenet.fc.in_features, num_actions)\n",
    "        \n",
    "\n",
    "    def forward(self, x):\n",
    "        # For the moment just use googleNet\n",
    "        x = self.googlenet(x)\n",
    "        return x\n",
    "\n",
    "    #def forward(self, x):\n",
    "        # Aplicar la primera capa convolucional y pooling\n",
    "    #    x = self.pool(F.relu(self.conv1(x)))\n",
    "        # Aplicar la segunda capa convolucional y pooling\n",
    "    #    x = self.pool(F.relu(self.conv2(x)))\n",
    "        # Aplicar la tercera capa convolucional sin pooling\n",
    "    #    x = F.relu(self.conv3(x))\n",
    "        # Aplanar los datos para la entrada densa\n",
    "    #    x = x.view(-1, self.flattened_size)\n",
    "        # Aplicar las capas densas con activaciones ReLU\n",
    "    #    x = F.relu(self.fc1(x))\n",
    "    #    x = self.fc3(x)  # Directamente los valores lineales sin softmax\n",
    "    #    return x\n",
    "\n",
    "\n",
    "\n",
    "import random\n",
    "from collections import deque\n",
    "import os \n",
    "class ReplayBuffer:\n",
    "    def __init__(self, capacity):\n",
    "        self.buffer = deque(maxlen=capacity)\n",
    "\n",
    "    def store(self, state, action, reward, next_state, done):\n",
    "        self.buffer.append((state, action, reward, next_state, done))\n",
    "\n",
    "    def sample(self, batch_size):\n",
    "        minibatch = random.sample(self.buffer, batch_size)\n",
    "        \n",
    "        # Desempaqueta y organiza los datos del minibatch en tensores PyTorch\n",
    "        states = torch.stack([item[0] for item in minibatch])\n",
    "        actions = torch.tensor([item[1] for item in minibatch])\n",
    "        rewards = torch.tensor([item[2] for item in minibatch])\n",
    "        next_states = torch.stack([item[3] for item in minibatch])\n",
    "        dones = torch.tensor([item[4] for item in minibatch])\n",
    "        \n",
    "        return states, actions, rewards, next_states, dones\n",
    "\n",
    "    def __len__(self):\n",
    "        return len(self.buffer)\n",
    "    \n",
    "replay_buffer = ReplayBuffer(20)\n"
   ]
  },
  {
   "cell_type": "markdown",
   "metadata": {},
   "source": [
    "\n"
   ]
  },
  {
   "cell_type": "markdown",
   "metadata": {},
   "source": [
    "Lets start to play"
   ]
  },
  {
   "cell_type": "code",
   "execution_count": 142,
   "metadata": {},
   "outputs": [
    {
     "name": "stderr",
     "output_type": "stream",
     "text": [
      "e:\\AI_FOR_Geometry_dash\\.venv\\lib\\site-packages\\torchvision\\models\\_utils.py:208: UserWarning: The parameter 'pretrained' is deprecated since 0.13 and may be removed in the future, please use 'weights' instead.\n",
      "  warnings.warn(\n",
      "e:\\AI_FOR_Geometry_dash\\.venv\\lib\\site-packages\\torchvision\\models\\_utils.py:223: UserWarning: Arguments other than a weight enum or `None` for 'weights' are deprecated since 0.13 and may be removed in the future. The current behavior is equivalent to passing `weights=GoogLeNet_Weights.IMAGENET1K_V1`. You can also use `weights=GoogLeNet_Weights.DEFAULT` to get the most up-to-date weights.\n",
      "  warnings.warn(msg)\n"
     ]
    },
    {
     "name": "stdout",
     "output_type": "stream",
     "text": [
      "Episodio: 0, Recompensa Total: 225, Epsilon: 1.0\n"
     ]
    },
    {
     "name": "stderr",
     "output_type": "stream",
     "text": [
      "e:\\AI_FOR_Geometry_dash\\.venv\\lib\\site-packages\\torch\\nn\\modules\\loss.py:535: UserWarning: Using a target size (torch.Size([16, 1])) that is different to the input size (torch.Size([16])). This will likely lead to incorrect results due to broadcasting. Please ensure they have the same size.\n",
      "  return F.mse_loss(input, target, reduction=self.reduction)\n"
     ]
    },
    {
     "name": "stdout",
     "output_type": "stream",
     "text": [
      "Episodio: 1, Recompensa Total: 370, Epsilon: 0.995\n",
      "Episodio: 2, Recompensa Total: 90, Epsilon: 0.990025\n",
      "Episodio: 3, Recompensa Total: 95, Epsilon: 0.985074875\n",
      "Episodio: 4, Recompensa Total: 70, Epsilon: 0.9801495006250001\n",
      "Accion predecida 1\n",
      "Episodio: 5, Recompensa Total: 90, Epsilon: 0.9752487531218751\n",
      "Episodio: 6, Recompensa Total: 95, Epsilon: 0.9703725093562657\n",
      "Accion predecida 1\n",
      "Episodio: 7, Recompensa Total: 30, Epsilon: 0.9655206468094844\n",
      "Episodio: 8, Recompensa Total: 190, Epsilon: 0.960693043575437\n",
      "Episodio: 9, Recompensa Total: 65, Epsilon: 0.9558895783575597\n",
      "Episodio: 10, Recompensa Total: 65, Epsilon: 0.9511101304657719\n",
      "Episodio: 11, Recompensa Total: 100, Epsilon: 0.946354579813443\n",
      "Episodio: 12, Recompensa Total: 100, Epsilon: 0.9416228069143757\n",
      "Episodio: 13, Recompensa Total: 35, Epsilon: 0.9369146928798039\n"
     ]
    },
    {
     "ename": "KeyboardInterrupt",
     "evalue": "",
     "output_type": "error",
     "traceback": [
      "\u001b[1;31m---------------------------------------------------------------------------\u001b[0m",
      "\u001b[1;31mKeyboardInterrupt\u001b[0m                         Traceback (most recent call last)",
      "Cell \u001b[1;32mIn[142], line 60\u001b[0m\n\u001b[0;32m     58\u001b[0m     \u001b[38;5;28;01mif\u001b[39;00m \u001b[38;5;28mlen\u001b[39m(replay_buffer) \u001b[38;5;241m>\u001b[39m\u001b[38;5;241m=\u001b[39m minibatch_size:\n\u001b[0;32m     59\u001b[0m         minibatch \u001b[38;5;241m=\u001b[39m replay_buffer\u001b[38;5;241m.\u001b[39msample(minibatch_size)\n\u001b[1;32m---> 60\u001b[0m         loss \u001b[38;5;241m=\u001b[39m \u001b[43mupdate_network\u001b[49m\u001b[43m(\u001b[49m\u001b[43mmodel\u001b[49m\u001b[43m,\u001b[49m\u001b[43m \u001b[49m\u001b[43mtarget_model\u001b[49m\u001b[43m,\u001b[49m\u001b[43m \u001b[49m\u001b[43mminibatch\u001b[49m\u001b[43m,\u001b[49m\u001b[43m \u001b[49m\u001b[43mgamma\u001b[49m\u001b[43m,\u001b[49m\u001b[43m \u001b[49m\u001b[43moptimizer\u001b[49m\u001b[43m,\u001b[49m\u001b[43m \u001b[49m\u001b[43mcriterion\u001b[49m\u001b[43m)\u001b[49m  \u001b[38;5;66;03m# Actualiza la red\u001b[39;00m\n\u001b[0;32m     62\u001b[0m \u001b[38;5;28;01mif\u001b[39;00m episode \u001b[38;5;241m%\u001b[39m TARGET_UPDATE_FREQUENCY \u001b[38;5;241m==\u001b[39m \u001b[38;5;241m0\u001b[39m:\n\u001b[0;32m     63\u001b[0m     target_model\u001b[38;5;241m.\u001b[39mload_state_dict(model\u001b[38;5;241m.\u001b[39mstate_dict())\n",
      "Cell \u001b[1;32mIn[140], line 21\u001b[0m, in \u001b[0;36mupdate_network\u001b[1;34m(model, target_model, minibatch, gamma, optimizer, criterion)\u001b[0m\n\u001b[0;32m     19\u001b[0m states \u001b[38;5;241m=\u001b[39m states\u001b[38;5;241m.\u001b[39mto(device)\n\u001b[0;32m     20\u001b[0m next_states \u001b[38;5;241m=\u001b[39m next_states\u001b[38;5;241m.\u001b[39mto(device)\n\u001b[1;32m---> 21\u001b[0m actions \u001b[38;5;241m=\u001b[39m \u001b[43mactions\u001b[49m\u001b[38;5;241;43m.\u001b[39;49m\u001b[43mto\u001b[49m\u001b[43m(\u001b[49m\u001b[43mdevice\u001b[49m\u001b[43m)\u001b[49m\n\u001b[0;32m     22\u001b[0m rewards \u001b[38;5;241m=\u001b[39m rewards\u001b[38;5;241m.\u001b[39mto(device)\n\u001b[0;32m     23\u001b[0m dones \u001b[38;5;241m=\u001b[39m dones\u001b[38;5;241m.\u001b[39mto(device)\n",
      "\u001b[1;31mKeyboardInterrupt\u001b[0m: "
     ]
    }
   ],
   "source": [
    "import torch\n",
    "import torch.nn as nn\n",
    "import torch.optim as optim\n",
    "from torch.utils.data import DataLoader, Dataset\n",
    "import time\n",
    "\n",
    "\n",
    "# Parameters\n",
    "gamma = 0.99  # Discount \n",
    "epsilon = 1.0  # Epsilon to start epsilon-greedy politic\n",
    "epsilon_min = 0.00001  # min Epsilon\n",
    "epsilon_decay = 0.995  # Factor de decaimiento de epsilon\n",
    "learning_rate = 0.01  # Learning Rate\n",
    "replay_buffer_capacity = 10000  # Max buffer capacity\n",
    "minibatch_size = 16  # Batxh size\n",
    "num_episodes = 10000 \n",
    "num_actions = 2 # jump or not jump\n",
    "path = './model.pth'\n",
    "model = GeometryDashCNN(num_actions=num_actions)\n",
    "TARGET_UPDATE_FREQUENCY = 20\n",
    "\n",
    "if  os.path.exists(path):\n",
    "    model.load_state_dict(torch.load('/model.pth'))\n",
    "model = model.to(device)\n",
    "\n",
    "\n",
    "target_model = GeometryDashCNN(num_actions=num_actions)\n",
    "target_model = target_model.to(device)\n",
    "\n",
    "optimizer = optim.Adam(model.parameters(), lr=learning_rate)\n",
    "criterion = nn.MSELoss()\n",
    "image_shape = (3,120, 160)\n",
    "image_stack_obj = ImageStack(stack_size=4, image_shape=image_shape)\n",
    "image_stack_obj.to(device)\n",
    "\n",
    "time.sleep(5)\n",
    "all_rewards = []\n",
    "for episode in range(num_episodes):\n",
    "    time.sleep(0.2)\n",
    "    screen = capture_screen()\n",
    "    state = process_image_pytorch(screen, image_stack_obj)\n",
    "    done = False\n",
    "    total_reward = 0\n",
    "\n",
    "    while not done:\n",
    "        time.sleep(0.1)\n",
    "        # Select Action ε-greedy policy\n",
    "        action = choose_action(state, model, epsilon, device=device)\n",
    "        reward, done = perform_action_pytorch(action, screen)\n",
    "        screen = capture_screen()\n",
    "        new_state = process_image_pytorch(screen, image_stack_obj)\n",
    "        total_reward += reward\n",
    "\n",
    "        # safe buffer\n",
    "        replay_buffer.store(state, action, reward, new_state, done)\n",
    "\n",
    "        # update network\n",
    "        if len(replay_buffer) >= minibatch_size:\n",
    "            minibatch = replay_buffer.sample(minibatch_size)\n",
    "            loss = update_network(model, target_model, minibatch, gamma, optimizer, criterion)  # Actualiza la red\n",
    "    \n",
    "    if episode % TARGET_UPDATE_FREQUENCY == 0:\n",
    "        target_model.load_state_dict(model.state_dict())\n",
    "    print(f'Episodio: {episode}, Recompensa Total: {total_reward}, Epsilon: {epsilon}')\n",
    "\n",
    "    all_rewards.append(total_reward)\n",
    "    epsilon = max(epsilon_min, epsilon * epsilon_decay)\n",
    "    state = new_state\n",
    "    torch.save(model.state_dict(), './model_weights.pth')\n",
    "\n",
    "\n"
   ]
  },
  {
   "cell_type": "markdown",
   "metadata": {},
   "source": []
  },
  {
   "cell_type": "code",
   "execution_count": null,
   "metadata": {},
   "outputs": [
    {
     "ename": "ValueError",
     "evalue": "v cannot be empty",
     "output_type": "error",
     "traceback": [
      "\u001b[1;31m---------------------------------------------------------------------------\u001b[0m",
      "\u001b[1;31mValueError\u001b[0m                                Traceback (most recent call last)",
      "Cell \u001b[1;32mIn[105], line 8\u001b[0m\n\u001b[0;32m      5\u001b[0m     promedios \u001b[38;5;241m=\u001b[39m np\u001b[38;5;241m.\u001b[39mconvolve(recompensas, np\u001b[38;5;241m.\u001b[39mones(ventana)\u001b[38;5;241m/\u001b[39mventana, mode\u001b[38;5;241m=\u001b[39m\u001b[38;5;124m'\u001b[39m\u001b[38;5;124mvalid\u001b[39m\u001b[38;5;124m'\u001b[39m)\n\u001b[0;32m      6\u001b[0m     \u001b[38;5;28;01mreturn\u001b[39;00m promedios\n\u001b[1;32m----> 8\u001b[0m promedio_movil_recompensas \u001b[38;5;241m=\u001b[39m \u001b[43mcalcular_promedio_movil\u001b[49m\u001b[43m(\u001b[49m\u001b[43mall_rewards\u001b[49m\u001b[43m,\u001b[49m\u001b[43m \u001b[49m\u001b[43mventana\u001b[49m\u001b[38;5;241;43m=\u001b[39;49m\u001b[38;5;241;43m50\u001b[39;49m\u001b[43m)\u001b[49m\n\u001b[0;32m     10\u001b[0m \u001b[38;5;66;03m# Graficar las recompensas promedio por episodio\u001b[39;00m\n\u001b[0;32m     11\u001b[0m plt\u001b[38;5;241m.\u001b[39mfigure(figsize\u001b[38;5;241m=\u001b[39m(\u001b[38;5;241m12\u001b[39m, \u001b[38;5;241m6\u001b[39m))\n",
      "Cell \u001b[1;32mIn[105], line 5\u001b[0m, in \u001b[0;36mcalcular_promedio_movil\u001b[1;34m(recompensas, ventana)\u001b[0m\n\u001b[0;32m      3\u001b[0m \u001b[38;5;28;01mdef\u001b[39;00m \u001b[38;5;21mcalcular_promedio_movil\u001b[39m(recompensas, ventana\u001b[38;5;241m=\u001b[39m\u001b[38;5;241m500\u001b[39m):\n\u001b[0;32m      4\u001b[0m \u001b[38;5;250m    \u001b[39m\u001b[38;5;124;03m\"\"\"Calcula el promedio móvil de las recompensas con una ventana dada.\"\"\"\u001b[39;00m\n\u001b[1;32m----> 5\u001b[0m     promedios \u001b[38;5;241m=\u001b[39m \u001b[43mnp\u001b[49m\u001b[38;5;241;43m.\u001b[39;49m\u001b[43mconvolve\u001b[49m\u001b[43m(\u001b[49m\u001b[43mrecompensas\u001b[49m\u001b[43m,\u001b[49m\u001b[43m \u001b[49m\u001b[43mnp\u001b[49m\u001b[38;5;241;43m.\u001b[39;49m\u001b[43mones\u001b[49m\u001b[43m(\u001b[49m\u001b[43mventana\u001b[49m\u001b[43m)\u001b[49m\u001b[38;5;241;43m/\u001b[39;49m\u001b[43mventana\u001b[49m\u001b[43m,\u001b[49m\u001b[43m \u001b[49m\u001b[43mmode\u001b[49m\u001b[38;5;241;43m=\u001b[39;49m\u001b[38;5;124;43m'\u001b[39;49m\u001b[38;5;124;43mvalid\u001b[39;49m\u001b[38;5;124;43m'\u001b[39;49m\u001b[43m)\u001b[49m\n\u001b[0;32m      6\u001b[0m     \u001b[38;5;28;01mreturn\u001b[39;00m promedios\n",
      "File \u001b[1;32me:\\AI_FOR_Geometry_dash\\.venv\\lib\\site-packages\\numpy\\core\\numeric.py:833\u001b[0m, in \u001b[0;36mconvolve\u001b[1;34m(a, v, mode)\u001b[0m\n\u001b[0;32m    831\u001b[0m     \u001b[38;5;28;01mraise\u001b[39;00m \u001b[38;5;167;01mValueError\u001b[39;00m(\u001b[38;5;124m'\u001b[39m\u001b[38;5;124ma cannot be empty\u001b[39m\u001b[38;5;124m'\u001b[39m)\n\u001b[0;32m    832\u001b[0m \u001b[38;5;28;01mif\u001b[39;00m \u001b[38;5;28mlen\u001b[39m(v) \u001b[38;5;241m==\u001b[39m \u001b[38;5;241m0\u001b[39m:\n\u001b[1;32m--> 833\u001b[0m     \u001b[38;5;28;01mraise\u001b[39;00m \u001b[38;5;167;01mValueError\u001b[39;00m(\u001b[38;5;124m'\u001b[39m\u001b[38;5;124mv cannot be empty\u001b[39m\u001b[38;5;124m'\u001b[39m)\n\u001b[0;32m    834\u001b[0m \u001b[38;5;28;01mreturn\u001b[39;00m multiarray\u001b[38;5;241m.\u001b[39mcorrelate(a, v[::\u001b[38;5;241m-\u001b[39m\u001b[38;5;241m1\u001b[39m], mode)\n",
      "\u001b[1;31mValueError\u001b[0m: v cannot be empty"
     ]
    }
   ],
   "source": [
    "import matplotlib.pyplot as plt\n",
    "# Calcular el promedio móvil de las recompensas\n",
    "def calcular_promedio_movil(recompensas, ventana=500):\n",
    "    \"\"\"Calcula el promedio móvil de las recompensas con una ventana dada.\"\"\"\n",
    "    promedios = np.convolve(recompensas, np.ones(ventana)/ventana, mode='valid')\n",
    "    return promedios\n",
    "\n",
    "promedio_movil_recompensas = calcular_promedio_movil(all_rewards, ventana=50)\n",
    "\n",
    "# Graficar las recompensas promedio por episodio\n",
    "plt.figure(figsize=(12, 6))\n",
    "plt.plot(all_rewards, label='Recompensa Total por Episodio', alpha=0.5)\n",
    "plt.plot(np.arange(len(promedio_movil_recompensas)) + 50/2, promedio_movil_recompensas, color='red', label='Promedio Móvil')\n",
    "plt.title('Recompensa Promedio por Episodio a lo Largo del Tiempo')\n",
    "plt.xlabel('Episodio')\n",
    "plt.ylabel('Recompensa Promedio')\n",
    "plt.legend()\n",
    "plt.show()"
   ]
  }
 ],
 "metadata": {
  "kernelspec": {
   "display_name": ".venv",
   "language": "python",
   "name": "python3"
  },
  "language_info": {
   "codemirror_mode": {
    "name": "ipython",
    "version": 3
   },
   "file_extension": ".py",
   "mimetype": "text/x-python",
   "name": "python",
   "nbconvert_exporter": "python",
   "pygments_lexer": "ipython3",
   "version": "3.9.10"
  }
 },
 "nbformat": 4,
 "nbformat_minor": 2
}
