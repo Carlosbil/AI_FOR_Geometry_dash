{
 "cells": [
  {
   "cell_type": "code",
   "execution_count": null,
   "metadata": {},
   "outputs": [],
   "source": [
    "import torch\n",
    "\n",
    "# Verify if Cuda is available to use GPU\n",
    "if torch.cuda.is_available():\n",
    "    print(\"CUDA (GPU) está disponible en tu sistema.\")\n",
    "else:\n",
    "    print(\"CUDA (GPU) no está disponible en tu sistema.\")"
   ]
  },
  {
   "cell_type": "markdown",
   "metadata": {},
   "source": [
    "# AI by reinforcement learning \n",
    "---\n",
    "This artificial intelligence will be able to learn to play and complete all levels of Geometry dash, using reinforcement learning. To complete this:\n",
    "1. Connect python with the game\n",
    "2. Define bounties and penalizations\n",
    "3. Use Reinforcement learning like Q-learning, Deep Q-learning or Proximal Policy Optimization\n",
    "4. Build a neuronal nerwork CNN? \n",
    "6. Training\n",
    "7. Eval and tunning"
   ]
  },
  {
   "cell_type": "markdown",
   "metadata": {},
   "source": [
    "## 1.Connect Python with the Game\n",
    "---\n",
    "This step will require:\n",
    "1. Keyboard Emulation and Automation\n",
    "- Description: Simulates keystrokes to control the game.\n",
    "- Tools: Libraries such as pyautogui in Python can be used to simulate keystrokes.\n",
    "- Challenges: Can be slow and not always accurate.\n",
    "2. Use of Computer Vision Tools\n",
    "- Description: Uses computer vision to \"see\" the state of the game and makes decisions based on that.\n",
    "- Tools: Libraries such as OpenCV to process the visual output of the game.\n",
    "- Challenges: Requires image processing and can be computationally intensive.\n",
    "3. Creating a Custom Game Environment\n",
    "- Description: Create a simplified version of Geometry Dash that you can fully control.\n",
    "- Tools: Programming languages such as Python or JavaScript to create a basic version of the game.\n",
    "- Challenges: Requires time and effort to replicate the game mechanics."
   ]
  },
  {
   "cell_type": "markdown",
   "metadata": {},
   "source": []
  },
  {
   "cell_type": "code",
   "execution_count": null,
   "metadata": {},
   "outputs": [],
   "source": [
    "import pyautogui\n",
    "\n",
    "# give time to join the game (swap to 5 when it is going to be used to play)\n",
    "def play_geometry_dash(time):\n",
    "    time.sleep(5)\n",
    "\n",
    "    # infinite loop to use the click\n",
    "    while True:\n",
    "        pyautogui.click()\n",
    "        time.sleep(1)\n",
    "        break"
   ]
  },
  {
   "cell_type": "markdown",
   "metadata": {},
   "source": [
    "Capture the game"
   ]
  },
  {
   "cell_type": "code",
   "execution_count": null,
   "metadata": {},
   "outputs": [],
   "source": [
    "import cv2\n",
    "import numpy as np\n",
    "import pyautogui\n",
    "\n",
    "# take a screenshot\n",
    "def capture_screen(region=None):\n",
    "    # if region is None, will take the whole screen\n",
    "    screen = pyautogui.screenshot(region=region)\n",
    "    frame = np.array(screen)\n",
    "    frame = cv2.cvtColor(frame, cv2.COLOR_BGR2RGB)\n",
    "    return frame\n",
    "\n",
    "def start_capturing_game():\n",
    "    while True:\n",
    "        # Define the region of the game\n",
    "        region = (0, 0, 1920, 1080)  # Reemplaza con las coordenadas y dimensiones correctas\n",
    "        screen = capture_screen(region)\n",
    "        # Add here in the future the logic of screen analisis and neuronal netwrok\n",
    "\n",
    "        # Visualize the screenshot\n",
    "        cv2.imshow(\"Game Capture\", screen)\n",
    "        if cv2.waitKey(1) & 0xFF == ord('q'):\n",
    "            break\n",
    "    cv2.destroyAllWindows()"
   ]
  }
 ],
 "metadata": {
  "kernelspec": {
   "display_name": ".venv",
   "language": "python",
   "name": "python3"
  },
  "language_info": {
   "codemirror_mode": {
    "name": "ipython",
    "version": 3
   },
   "file_extension": ".py",
   "mimetype": "text/x-python",
   "name": "python",
   "nbconvert_exporter": "python",
   "pygments_lexer": "ipython3",
   "version": "3.9.10"
  }
 },
 "nbformat": 4,
 "nbformat_minor": 2
}
